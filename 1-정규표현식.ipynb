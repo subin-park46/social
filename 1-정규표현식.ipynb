{
 "cells": [
  {
   "cell_type": "markdown",
   "metadata": {},
   "source": [
    "### 정규 표현식"
   ]
  },
  {
   "cell_type": "markdown",
   "metadata": {},
   "source": [
    "* 텍스트 문자열을 어떠한 패턴으로 파악하여 식별하는 데 쓰임\n",
    "* 문자열이 주어진 규칙에 일치하는지, 일치하지 않는지 판단할  수 있음\n",
    "* re 라이브러리 이용 \n",
    "    - compile 함수를 통해 정규 표현식을 익힌 후 findall 함수로 정규표현식에 부합하는 문자열을 찾음"
   ]
  },
  {
   "cell_type": "code",
   "execution_count": 2,
   "metadata": {},
   "outputs": [
    {
     "data": {
      "text/plain": [
       "['aaaa', 'aabbb']"
      ]
     },
     "execution_count": 2,
     "metadata": {},
     "output_type": "execute_result"
    }
   ],
   "source": [
    "# findall() : 정규식과 매치되는 모든 문자열(substring)을 리스트로 리턴\n",
    "\n",
    "import re\n",
    "\n",
    "p = re.compile(\"a+b*\")\n",
    "p.findall(\"aaaa, cc, bbbb, aabbb\")"
   ]
  },
  {
   "cell_type": "code",
   "execution_count": 4,
   "metadata": {},
   "outputs": [
    {
     "data": {
      "text/plain": [
       "['HOME']"
      ]
     },
     "execution_count": 4,
     "metadata": {},
     "output_type": "execute_result"
    }
   ],
   "source": [
    "p = re.compile(\"[A-Z]+\")\n",
    "p.findall(\"HOME, home\")"
   ]
  },
  {
   "cell_type": "code",
   "execution_count": 5,
   "metadata": {},
   "outputs": [
    {
     "data": {
      "text/plain": [
       "['abc']"
      ]
     },
     "execution_count": 5,
     "metadata": {},
     "output_type": "execute_result"
    }
   ],
   "source": [
    "p = re.compile(\"^a..\")\n",
    "p.findall(\"abc, cba\")"
   ]
  },
  {
   "cell_type": "code",
   "execution_count": 3,
   "metadata": {},
   "outputs": [
    {
     "data": {
      "text/plain": [
       "['aabb', 'aaabb']"
      ]
     },
     "execution_count": 3,
     "metadata": {},
     "output_type": "execute_result"
    }
   ],
   "source": [
    "p = re.compile(\"a{2,3}b{2,3}\")\n",
    "p.findall(\"aabb, aaabb, ab, aab\")"
   ]
  },
  {
   "cell_type": "code",
   "execution_count": 6,
   "metadata": {},
   "outputs": [
    {
     "data": {
      "text/plain": [
       "'http:'"
      ]
     },
     "execution_count": 6,
     "metadata": {},
     "output_type": "execute_result"
    }
   ],
   "source": [
    "# 전방 탐색\n",
    "# search() : 문자열 전체를 검색하여 정규식과 매치되는지 조사\n",
    "#            Match 오브젝트 리턴\n",
    "# Match 오브젝트 메소드\n",
    "# - group() : 매치된 문자열을 리턴함\n",
    "# - start() : 매치된 문자열의 시작 위치를 리턴함\n",
    "# - end()   : 매치된 문자열의 끝 위치를 리턴함\n",
    "# - span()  : 매치된 문자열의 (시작, 끝)에 해당하는 튜플을 리턴함\n",
    "p = re.compile(\".+:\")\n",
    "m = p.search(\"http://google.com\")\n",
    "m.group()"
   ]
  },
  {
   "cell_type": "code",
   "execution_count": 7,
   "metadata": {},
   "outputs": [
    {
     "data": {
      "text/plain": [
       "'http'"
      ]
     },
     "execution_count": 7,
     "metadata": {},
     "output_type": "execute_result"
    }
   ],
   "source": [
    "# 긍정형 전방 탐색 (?=...)\n",
    "# http:에서 :을 제외하고 출력하려면...\n",
    "p = re.compile(\".+(?=:)\")\n",
    "m = p.search(\"http://google.com\")\n",
    "m.group()"
   ]
  },
  {
   "cell_type": "code",
   "execution_count": 8,
   "metadata": {},
   "outputs": [
    {
     "data": {
      "text/plain": [
       "'그의 물건에 손대지 마시오.'"
      ]
     },
     "execution_count": 8,
     "metadata": {},
     "output_type": "execute_result"
    }
   ],
   "source": [
    "p = re.compile(\"(내|나의|내꺼)\")\n",
    "p.sub(\"그의\", \"나의 물건에 손대지 마시오.\")"
   ]
  }
 ],
 "metadata": {
  "interpreter": {
   "hash": "0e24e2ac5ba8106d6de97ff5591a62c68103018b4d61809f9d99e49c5850d440"
  },
  "kernelspec": {
   "display_name": "Python 3.8.12 ('py38')",
   "language": "python",
   "name": "python3"
  },
  "language_info": {
   "codemirror_mode": {
    "name": "ipython",
    "version": 3
   },
   "file_extension": ".py",
   "mimetype": "text/x-python",
   "name": "python",
   "nbconvert_exporter": "python",
   "pygments_lexer": "ipython3",
   "version": "3.8.12"
  },
  "orig_nbformat": 4
 },
 "nbformat": 4,
 "nbformat_minor": 2
}
