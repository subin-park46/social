{
 "cells": [
  {
   "cell_type": "code",
   "execution_count": 1,
   "metadata": {},
   "outputs": [
    {
     "name": "stdout",
     "output_type": "stream",
     "text": [
      "1\n",
      "[(datetime.date(2022, 4, 15), 'DCU', 'Title', 'Contents')]\n"
     ]
    }
   ],
   "source": [
    "from unittest import result\n",
    "import pymysql\n",
    "conn = pymysql.connect(host='localhost',\n",
    "                      port=3306,\n",
    "                      user='social',\n",
    "                      passwd='socialpassword',\n",
    "                      db='socialdb')\n",
    "\n",
    "city = (9, 'Kiev', 2887000)\n",
    "\n",
    "try:\n",
    "    with con.cursor() as cur:\n",
    "\n",
    "        cur.execute('INSERT INTO cities VALUES(%s, %s, %s)',\n",
    "            (city[0], city[1], city[2]))\n",
    "        con.commit()\n",
    "\n",
    "        print('new city inserter')\n",
    "\n",
    "finally:\n",
    "\n",
    "    con.close()"
   ]
  }
 ],
 "metadata": {
  "interpreter": {
   "hash": "0e24e2ac5ba8106d6de97ff5591a62c68103018b4d61809f9d99e49c5850d440"
  },
  "kernelspec": {
   "display_name": "Python 3.8.12 ('py38')",
   "language": "python",
   "name": "python3"
  },
  "language_info": {
   "codemirror_mode": {
    "name": "ipython",
    "version": 3
   },
   "file_extension": ".py",
   "mimetype": "text/x-python",
   "name": "python",
   "nbconvert_exporter": "python",
   "pygments_lexer": "ipython3",
   "version": "3.8.12"
  },
  "orig_nbformat": 4
 },
 "nbformat": 4,
 "nbformat_minor": 2
}
