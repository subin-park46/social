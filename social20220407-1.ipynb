{
 "cells": [
  {
   "cell_type": "code",
   "execution_count": 1,
   "metadata": {},
   "outputs": [
    {
     "name": "stdout",
     "output_type": "stream",
     "text": [
      "2022년 경산시 청년예비창업가육성사업 (예비)창업자 모집 공고\n",
      "대구 문학과 예술, 책으로 만나다\n",
      "[SW] 2022년 제1차 SW융합특강 신청 안내\n",
      "체력증진센터 비교과 프로그램  'Monday 세미나' 안내\n",
      "[이벤트] DCU 평생학습 플랫폼 이름을 부탁해! (기간연장)\n",
      "[혁신] 창의융합 3D프린터 심화교육 프로그램 신청 안내[비교과]\n",
      "2022 삼성전자서비스 CS 산학 인턴십 프로그램 신청 안내\n",
      "[혁신]교수학습지원센터 학습지원 서포터즈 안내(장학금)(스텔라)\n",
      "[혁신] 2022-1학기 학생 교육혁신단 모집 공고(기간연장)\n",
      "[혁신] 창의융합 아두이노 온라인 기초교육[비교과]\n",
      "[혁신] 창의융합 3D프린터 모델링 온라인 기초교육[비교과]\n",
      "교내 조경수목 병충해방제 작업 안내\n",
      "제1학생식당 금요일 운영시간 변경 안내\n",
      "2022학년도 1학기 會(회)지원사업 공모 안내\n",
      "누구나 만들 수 있는 VLOG 영상편집 Premire Pro 교육\n",
      "중앙도서관 스터디룸 이용 안내\n",
      "[혁신] 유니티 엔진 입문자를 위한 유니티 기초 및 UI/UX 디자인 교육 ..\n",
      "[SW] 2022학년도 SW창업특강(4차) 신청 안내\n",
      "2022-1학기 대학생을 위한 통일 강좌 [회복적 평화와 북한사회문화의 이해..\n",
      "「대구가톨릭대학교 학칙」 개정(안) 공고\n",
      "국비 무료 여성교육생 모집(메타버스 콘텐츠 개발을 위한 드론 운용 및 3D모..\n",
      "2022년도 SW창업특강(3차) 신청 안내\n",
      "[혁신]2022-1 맞춤형 학습지원 특강 안내(스텔라)\n",
      "2022-1차 응급처치 및 심폐소생술 교육 시행 및 이수 현황 확인방법 안내\n",
      "2022-1차 성인지 교육 시행 안내\n",
      "2022년 제1차 평생교육사 자격증 교부결과 알림\n",
      "대경혁신인재양성(HuStar)사업단(ICT산업) 신규 인력 채용 공고\n",
      "[혁신] 유니티 심화 교육(1차) 신청 안내[비교과]\n",
      "[이벤트] 캠퍼스에도 봄이 왔나 봄!\n",
      "[혁신] 2022-1학기 전공튜터링 안내[장학금][스텔라]\n"
     ]
    }
   ],
   "source": [
    "import requests\n",
    "from bs4 import BeautifulSoup\n",
    "\n",
    "# 특정 URL에 접속하는 요청(Request) 객체를 생성.\n",
    "request = requests.get(\"http://www.cu.ac.kr/plaza/notice/notice\")\n",
    "\n",
    "# 접속한 이후의 웹 사이트 소스코드를 추출.\n",
    "html = request.text\n",
    "\n",
    "# HTML 소스코드를 파이썬 객체로 변환.\n",
    "soup = BeautifulSoup(html, 'html.parser')\n",
    "\n",
    "# <a> 태그 포함하는 요소를 추출.\n",
    "links = soup.select('td > a')\n",
    "\n",
    "# 모든 링크에 하나씩 접근.\n",
    "for link in links:\n",
    "    # 링크가 href 속성을 가지고 있따면\n",
    "    if link.has_attr('href') &~link.has_attr('class'):\n",
    "        # href 속성의 값으로 notice라는 문자를 포함한다면\n",
    "        if link.get('href').find('notice') != -1:\n",
    "            print(link.text.strip())"
   ]
  }
 ],
 "metadata": {
  "interpreter": {
   "hash": "0e24e2ac5ba8106d6de97ff5591a62c68103018b4d61809f9d99e49c5850d440"
  },
  "kernelspec": {
   "display_name": "Python 3.8.12 ('py38')",
   "language": "python",
   "name": "python3"
  },
  "language_info": {
   "codemirror_mode": {
    "name": "ipython",
    "version": 3
   },
   "file_extension": ".py",
   "mimetype": "text/x-python",
   "name": "python",
   "nbconvert_exporter": "python",
   "pygments_lexer": "ipython3",
   "version": "3.8.12"
  },
  "orig_nbformat": 4
 },
 "nbformat": 4,
 "nbformat_minor": 2
}
