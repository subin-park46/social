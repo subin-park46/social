{
 "cells": [
  {
   "cell_type": "code",
   "execution_count": 9,
   "metadata": {},
   "outputs": [],
   "source": [
    "import requests\n",
    "from bs4 import BeautifulSoup\n",
    "import json\n",
    "import re\n",
    "import sys\n",
    "import time, random\n",
    "import pandas as pd\n",
    "\n",
    "header = {\n",
    "    'User-Agent': 'Mozilla/5.0 (Windows NT 10.0; Win64; x64) AppleWebKit/537.36 (KHTML, like Gecko) Chrome/58.0.3029.110 Safari/537.36'\n",
    "}\n",
    "\n",
    "def get_news(news_url):\n",
    "    news_detail = []\n",
    "    print(news_url)\n",
    "    req = requests.get(news_url, headers=header)\n",
    "    soup = BeautifulSoup(req.content, 'html.parser')\n",
    "\n",
    "    # 제목\n",
    "    title = soup.select('h3#articleTitle')[0].text\n",
    "    news_detail.append(title)\n",
    "\n",
    "    # 날짜 \n",
    "    pdate = soup.select('.t11')[0].get_text()[:11]\n",
    "    news_detail.append(pdate)\n",
    "\n",
    "    # 본문\n",
    "    _text = soup.select('#articleBodyContents')[\n",
    "        0].get_text().replace('\\n', \" \")\n",
    "    text = _text.replace(\n",
    "        \"// flash 오류를 우회하기 위한 함수 추가 function _flash_removeCallback() {}\", \"\")\n",
    "    news_detail.append(text.strip())\n",
    "\n",
    "    # 언론사\n",
    "    pcompany = soup.select('div.article_footer')[\n",
    "        0].a.get_text().split()[0].strip()\n",
    "    news_detail.append(pcompany)\n",
    "\n",
    "    return news_detail\n"
   ]
  },
  {
   "cell_type": "code",
   "execution_count": 10,
   "metadata": {},
   "outputs": [
    {
     "name": "stdout",
     "output_type": "stream",
     "text": [
      "https://news.naver.com/main/read.naver?mode=LSD&mid=sec&sid1=102&oid=214&aid=0001190101\n",
      "['코로나 백신 4차접종, 60세 이상으로 확대', '2022.04.13.', '정부가 코로나19 백신 4차 접종 대상을 60세 이상 연령층으로 확대하기로 했습니다.  권덕철 보건복지부 장관은 오늘 중앙재난안전대책본부 회의에서 이같이 밝히고, 미국, 등 다른 국가에서의 4차 접종 동향을 분석하고 국내 전문가들과 접종의 효과성과 안전성을 철저히 검증한 끝에 내린 계획\"이라고 설명했습니다.  지난 2월부터 전국 요양병원·시설과 면역저하자 등에 한해 4차 접종을 해왔지만, 최근 확진자 중 60세 이상 비율이 증가하자 접종 대상 확대를 결정했습니다.  권 장관은 또 \"이번 주 금요일에 사회적 거리두기의 조정방안과 더불어 방역·의료체계를 일상화하는 종합적인 방안을 안내하겠다\"고 덧붙였습니다.', 'MBC']\n"
     ]
    }
   ],
   "source": [
    "news_detail = get_news(\"https://news.naver.com/main/read.naver?mode=LSD&mid=sec&sid1=102&oid=214&aid=0001190101\")\n",
    "print(news_detail)"
   ]
  }
 ],
 "metadata": {
  "interpreter": {
   "hash": "0e24e2ac5ba8106d6de97ff5591a62c68103018b4d61809f9d99e49c5850d440"
  },
  "kernelspec": {
   "display_name": "Python 3.8.12 ('py38')",
   "language": "python",
   "name": "python3"
  },
  "language_info": {
   "codemirror_mode": {
    "name": "ipython",
    "version": 3
   },
   "file_extension": ".py",
   "mimetype": "text/x-python",
   "name": "python",
   "nbconvert_exporter": "python",
   "pygments_lexer": "ipython3",
   "version": "3.8.12"
  },
  "orig_nbformat": 4
 },
 "nbformat": 4,
 "nbformat_minor": 2
}
